{
  "nbformat": 4,
  "nbformat_minor": 0,
  "metadata": {
    "colab": {
      "name": "error_metric_time_series.ipynb",
      "private_outputs": true,
      "provenance": [],
      "collapsed_sections": [],
      "authorship_tag": "ABX9TyNoBuf68mT1FwXPyOAVpU75",
      "include_colab_link": true
    },
    "kernelspec": {
      "name": "python3",
      "display_name": "Python 3"
    },
    "language_info": {
      "name": "python"
    }
  },
  "cells": [
    {
      "cell_type": "markdown",
      "metadata": {
        "id": "view-in-github",
        "colab_type": "text"
      },
      "source": [
        "<a href=\"https://colab.research.google.com/github/Servir-Mekong/data-driven-optical-sar-data-fusion/blob/main/error_metric_time_series.ipynb\" target=\"_parent\"><img src=\"https://colab.research.google.com/assets/colab-badge.svg\" alt=\"Open In Colab\"/></a>"
      ]
    },
    {
      "cell_type": "code",
      "metadata": {
        "id": "KwJSdqT_oNDQ"
      },
      "source": [
        "import ee\n",
        "\n",
        "try:\n",
        "    ee.Initialize()\n",
        "except:\n",
        "    ee.Authenticate()\n",
        "    ee.Initialize()\n"
      ],
      "execution_count": null,
      "outputs": []
    },
    {
      "cell_type": "code",
      "metadata": {
        "id": "A67r9Ax7pPVu"
      },
      "source": [
        "%pylab inline"
      ],
      "execution_count": null,
      "outputs": []
    },
    {
      "cell_type": "code",
      "metadata": {
        "id": "4Y-0rHDDpUrg"
      },
      "source": [
        "import pandas as pd"
      ],
      "execution_count": null,
      "outputs": []
    },
    {
      "cell_type": "code",
      "metadata": {
        "id": "g568SVwppXuC"
      },
      "source": [
        "# function to provide a fill value if reduction is null\n",
        "def filler(k,v):\n",
        "    newval = ee.Algorithms.If(v,v,-9999)\n",
        "    return newval"
      ],
      "execution_count": null,
      "outputs": []
    },
    {
      "cell_type": "code",
      "metadata": {
        "id": "PU1ShlGOpdcJ"
      },
      "source": [
        "# function to calculate error metrics for each date in collection\n",
        "def calc_metrics(img):\n",
        "    date = img.get(\"system:time_start\")\n",
        "    img = img.divide(1e5)\n",
        "    y_true = img.select([0])\n",
        "    y_pred = img.select([1])\n",
        "    bias = y_pred.subtract(y_true).rename(\"error\")\n",
        "    se = bias.pow(2).rename(\"sqr_error\")\n",
        "    pe = y_true.subtract(y_pred).divide(y_true).abs().rename(\"pct_error\")\n",
        "    metrics = ee.Image.cat([\n",
        "        bias,\n",
        "        se,\n",
        "        pe\n",
        "    ]).set(\"system:time_start\",date)\n",
        "\n",
        "    metric_dict = metrics.reduceRegion(\n",
        "        reducer= ee.Reducer.mean(),\n",
        "        geometry= img.geometry(),\n",
        "        scale= 30,\n",
        "        maxPixels= 1e10\n",
        "    ).map(filler)\n",
        "\n",
        "    return metrics.set(metric_dict)"
      ],
      "execution_count": null,
      "outputs": []
    },
    {
      "cell_type": "code",
      "metadata": {
        "id": "CBXxlN9Apkvt"
      },
      "source": [
        "# collection that is \n",
        "collection = ee.ImageCollection(\"users/kelmarkert/optical_sar_df_coincident\").sort(\"system:time_start\")"
      ],
      "execution_count": null,
      "outputs": []
    },
    {
      "cell_type": "code",
      "metadata": {
        "id": "ZT--2nz4pmeH"
      },
      "source": [
        "metrics = collection.map(calc_metrics)"
      ],
      "execution_count": null,
      "outputs": []
    },
    {
      "cell_type": "code",
      "metadata": {
        "id": "U4_MpkUYpoxK"
      },
      "source": [
        "dates = np.array(\n",
        "    metrics.aggregate_array(\"system:time_start\").getInfo()\n",
        ")"
      ],
      "execution_count": null,
      "outputs": []
    },
    {
      "cell_type": "code",
      "metadata": {
        "id": "V-fjq8-tp1ez"
      },
      "source": [
        "bias = np.array(\n",
        "    metrics.aggregate_array(\"error\").getInfo()\n",
        ")\n",
        "\n",
        "bias[bias==-9999.0] = np.nan"
      ],
      "execution_count": null,
      "outputs": []
    },
    {
      "cell_type": "code",
      "metadata": {
        "id": "04VhIj3gp25v"
      },
      "source": [
        "sqr_err = np.array(\n",
        "    metrics.aggregate_array(\"sqr_error\").getInfo()\n",
        ")"
      ],
      "execution_count": null,
      "outputs": []
    },
    {
      "cell_type": "code",
      "metadata": {
        "id": "joc8E3_6p3vo"
      },
      "source": [
        "pct_err = np.array(\n",
        "    metrics.aggregate_array(\"pct_error\").getInfo()\n",
        ")"
      ],
      "execution_count": null,
      "outputs": []
    },
    {
      "cell_type": "code",
      "metadata": {
        "id": "DYVbA3Z4p4pE"
      },
      "source": [
        "rmse = np.sqrt(sqr_err)"
      ],
      "execution_count": null,
      "outputs": []
    },
    {
      "cell_type": "code",
      "metadata": {
        "id": "nyT7n6vwp5yM"
      },
      "source": [
        "df = pd.DataFrame(\n",
        "    {\n",
        "        \"bias\": bias,\n",
        "        \"mse\": sqr_err,\n",
        "        \"rmse\": rmse,\n",
        "        \"mape\": pct_err\n",
        "    },\n",
        "    index=pd.to_datetime(dates*1e6)\n",
        ")\n",
        "\n",
        "df.dropna(inplace=True)"
      ],
      "execution_count": null,
      "outputs": []
    },
    {
      "cell_type": "code",
      "metadata": {
        "id": "S3Cxk--9p9d-"
      },
      "source": [
        "df"
      ],
      "execution_count": null,
      "outputs": []
    },
    {
      "cell_type": "code",
      "metadata": {
        "id": "DDwF6WAkp-AN"
      },
      "source": [
        "\n",
        "df.plot(marker=\"o\",subplots=True, figsize=(10,10));"
      ],
      "execution_count": null,
      "outputs": []
    },
    {
      "cell_type": "code",
      "metadata": {
        "id": "g9OV0proqCcT"
      },
      "source": [
        ""
      ],
      "execution_count": null,
      "outputs": []
    }
  ]
}